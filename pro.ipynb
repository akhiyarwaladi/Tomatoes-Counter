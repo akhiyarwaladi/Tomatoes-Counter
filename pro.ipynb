{
 "cells": [
  {
   "cell_type": "code",
   "execution_count": null,
   "metadata": {
    "collapsed": false
   },
   "outputs": [],
   "source": [
    "# CannyStill.py\n",
    "\n",
    "import cv2\n",
    "import numpy as np\n",
    "import os\n",
    "\n",
    "\n",
    "imgOriginal = cv2.imread(\"image.jpg\")               # open image                                          # and exit function (which exits program)\n",
    "\n",
    "imgGrayscale = cv2.cvtColor(imgOriginal, cv2.COLOR_BGR2GRAY)        # convert to grayscale\n",
    "\n",
    "imgBlurred = cv2.GaussianBlur(imgGrayscale, (5, 5), 0)              # blur\n",
    "\n",
    "imgCanny = cv2.Canny(imgBlurred, 100, 200)                          # get Canny edges\n",
    "\n",
    "cv2.namedWindow(\"imgOriginal\", cv2.WINDOW_AUTOSIZE)        # create windows, use WINDOW_AUTOSIZE for a fixed window size\n",
    "cv2.namedWindow(\"imgCanny\", cv2.WINDOW_AUTOSIZE)           # or use WINDOW_NORMAL to allow window resizing\n",
    "\n",
    "cv2.imshow(\"imgOriginal\", imgOriginal)         # show windows\n",
    "cv2.imshow(\"imgCanny\", imgCanny)\n",
    "\n",
    "cv2.waitKey()                               # hold windows open until user presses a key\n",
    "\n",
    "cv2.destroyAllWindows()                     # remove windows from memory\n",
    "\n"
   ]
  }
 ],
 "metadata": {
  "anaconda-cloud": {},
  "kernelspec": {
   "display_name": "Python [conda env:py35]",
   "language": "python",
   "name": "conda-env-py35-py"
  },
  "language_info": {
   "codemirror_mode": {
    "name": "ipython",
    "version": 3
   },
   "file_extension": ".py",
   "mimetype": "text/x-python",
   "name": "python",
   "nbconvert_exporter": "python",
   "pygments_lexer": "ipython3",
   "version": "3.5.2"
  }
 },
 "nbformat": 4,
 "nbformat_minor": 1
}
